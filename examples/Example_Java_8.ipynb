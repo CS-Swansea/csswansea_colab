{
  "nbformat": 4,
  "nbformat_minor": 0,
  "metadata": {
    "colab": {
      "name": "Example Java 8.ipynb",
      "provenance": [],
      "toc_visible": true
    },
    "kernelspec": {
      "name": "python3",
      "display_name": "Python 3"
    }
  },
  "cells": [
    {
      "cell_type": "markdown",
      "metadata": {
        "id": "yT3cq-EHkAAP",
        "colab_type": "text"
      },
      "source": [
        "# Install the configuration helper"
      ]
    },
    {
      "cell_type": "code",
      "metadata": {
        "id": "5DZYRuL7eTVc",
        "colab_type": "code",
        "outputId": "de1761ba-17dc-4841-ac42-e69b0b97aded",
        "colab": {
          "base_uri": "https://localhost:8080/",
          "height": 170
        }
      },
      "source": [
        "!pip install git+https://github.com/CS-Swansea/csswansea_colab.git "
      ],
      "execution_count": 0,
      "outputs": [
        {
          "output_type": "stream",
          "text": [
            "Collecting git+https://github.com/CS-Swansea/csswansea_colab.git\n",
            "  Cloning https://github.com/CS-Swansea/csswansea_colab.git to /tmp/pip-req-build-or1f40ze\n",
            "  Running command git clone -q https://github.com/CS-Swansea/csswansea_colab.git /tmp/pip-req-build-or1f40ze\n",
            "Requirement already satisfied (use --upgrade to upgrade): csswansea-colab==1.0 from git+https://github.com/CS-Swansea/csswansea_colab.git in /usr/local/lib/python3.6/dist-packages\n",
            "Building wheels for collected packages: csswansea-colab\n",
            "  Building wheel for csswansea-colab (setup.py) ... \u001b[?25l\u001b[?25hdone\n",
            "  Created wheel for csswansea-colab: filename=csswansea_colab-1.0-cp36-none-any.whl size=107307 sha256=53bb7fd09abe5a86277095db4c3edcfc6f239a0e30cd3c3fd87010ce943bb1d4\n",
            "  Stored in directory: /tmp/pip-ephem-wheel-cache-1kht3gp3/wheels/35/f1/9f/43d3d592e89ad6bb69629744e1b5ca9dd83299c2f0a787f505\n",
            "Successfully built csswansea-colab\n"
          ],
          "name": "stdout"
        }
      ]
    },
    {
      "cell_type": "markdown",
      "metadata": {
        "id": "BZ-N7TNuCTvw",
        "colab_type": "text"
      },
      "source": [
        "# Java 8"
      ]
    },
    {
      "cell_type": "code",
      "metadata": {
        "id": "AOaRGvdXE4GU",
        "colab_type": "code",
        "outputId": "e70e3981-5b61-4f7b-9a88-64b678e60b84",
        "colab": {
          "base_uri": "https://localhost:8080/",
          "height": 459
        }
      },
      "source": [
        "from csswansea_colab.java import java_8 as java\n",
        "java.configure()"
      ],
      "execution_count": 0,
      "outputs": [
        {
          "output_type": "stream",
          "text": [
            "\n",
            "installing java\n",
            "++ apt-get install -y openjdk-8-jdk-headless\n",
            "\n",
            "setting JAVA_HOME env variable\n",
            "\n",
            "updating-alternatives to use java version\n",
            "++ update-alternatives --set java    /usr/lib/jvm/java-8-openjdk-amd64/jre/bin/java\n",
            "++ update-alternatives --set javac   /usr/lib/jvm/java-8-openjdk-amd64/bin/javac\n",
            "++ update-alternatives --set javadoc /usr/lib/jvm/java-8-openjdk-amd64/bin/javadoc\n",
            "\n",
            "java version\n",
            "++ java -version\n",
            "openjdk version \"1.8.0_252\"\n",
            "OpenJDK Runtime Environment (build 1.8.0_252-8u252-b09-1~18.04-b09)\n",
            "OpenJDK 64-Bit Server VM (build 25.252-b09, mixed mode)\n",
            "\n",
            "javac version\n",
            "++ javac -version\n",
            "javac 1.8.0_252\n",
            "\n",
            "\n",
            "executing tests\n",
            "++ javac /tmp/tmptzl4oykn/HelloWorld.java -d /tmp/tmptzl4oykn\n",
            "++ java -cp /tmp/tmptzl4oykn HelloWorld\n",
            "Tests passed.\n"
          ],
          "name": "stdout"
        }
      ]
    },
    {
      "cell_type": "markdown",
      "metadata": {
        "id": "mVr9HeFVIXRY",
        "colab_type": "text"
      },
      "source": [
        "# Use `!` at the start of the line to execute it on the BASH commandline. "
      ]
    },
    {
      "cell_type": "code",
      "metadata": {
        "id": "GqjD45BRDBmn",
        "colab_type": "code",
        "outputId": "17c11e0a-80be-488d-fd4f-f8dd51fe31f3",
        "colab": {
          "base_uri": "https://localhost:8080/",
          "height": 85
        }
      },
      "source": [
        "!javac -version\n",
        "!java  -version"
      ],
      "execution_count": 0,
      "outputs": [
        {
          "output_type": "stream",
          "text": [
            "javac 1.8.0_252\n",
            "openjdk version \"1.8.0_252\"\n",
            "OpenJDK Runtime Environment (build 1.8.0_252-8u252-b09-1~18.04-b09)\n",
            "OpenJDK 64-Bit Server VM (build 25.252-b09, mixed mode)\n"
          ],
          "name": "stdout"
        }
      ]
    },
    {
      "cell_type": "markdown",
      "metadata": {
        "id": "Rs37ZLnyIsEf",
        "colab_type": "text"
      },
      "source": [
        "# Use the `%%writefile` magic to save it to file on Colab.\n",
        "\n",
        "When the cell is run in Colab the code written in the cell will **not** be executed and a file will be created at the desired location containing a copy of the cells current contents. \n",
        "\n",
        "If you change the content of the cell and run it again in Colab, the file will be recreated, and only contain the current cell contents."
      ]
    },
    {
      "cell_type": "code",
      "metadata": {
        "id": "SgTaDjfnFecI",
        "colab_type": "code",
        "colab": {
          "base_uri": "https://localhost:8080/",
          "height": 34
        },
        "outputId": "22a56925-c0a1-4a8d-8cb8-2592ee70776b"
      },
      "source": [
        "%%writefile HelloWorld.java\n",
        "\n",
        "public class HelloWorld {\n",
        "    public static void main(String[] args) {\n",
        "        System.out.println(\"Hello World.\");\n",
        "    }\n",
        "}"
      ],
      "execution_count": 1,
      "outputs": [
        {
          "output_type": "stream",
          "text": [
            "Writing HelloWorld.java\n"
          ],
          "name": "stdout"
        }
      ]
    },
    {
      "cell_type": "markdown",
      "metadata": {
        "id": "QAo4xlXMJeGZ",
        "colab_type": "text"
      },
      "source": [
        "# Compile the saved file on the command line."
      ]
    },
    {
      "cell_type": "code",
      "metadata": {
        "id": "gpODq9XfFxjH",
        "colab_type": "code",
        "colab": {}
      },
      "source": [
        "!javac HelloWorld.java"
      ],
      "execution_count": 0,
      "outputs": []
    },
    {
      "cell_type": "markdown",
      "metadata": {
        "id": "gUYNHdMwJpgk",
        "colab_type": "text"
      },
      "source": [
        "# Execute the compiled program on the jvm. "
      ]
    },
    {
      "cell_type": "code",
      "metadata": {
        "id": "yi3ketXxGP-y",
        "colab_type": "code",
        "colab": {
          "base_uri": "https://localhost:8080/",
          "height": 34
        },
        "outputId": "438119f4-690b-4c59-ca63-4a2cf5666155"
      },
      "source": [
        "!java HelloWorld"
      ],
      "execution_count": 3,
      "outputs": [
        {
          "output_type": "stream",
          "text": [
            "Hello World.\n"
          ],
          "name": "stdout"
        }
      ]
    }
  ]
}