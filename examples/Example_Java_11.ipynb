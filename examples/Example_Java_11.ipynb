{
  "nbformat": 4,
  "nbformat_minor": 0,
  "metadata": {
    "colab": {
      "name": "Example Java 11.ipynb",
      "provenance": []
    },
    "kernelspec": {
      "name": "python3",
      "display_name": "Python 3"
    }
  },
  "cells": [
    {
      "cell_type": "markdown",
      "metadata": {
        "id": "yT3cq-EHkAAP",
        "colab_type": "text"
      },
      "source": [
        "# Install the configuration helper"
      ]
    },
    {
      "cell_type": "code",
      "metadata": {
        "id": "5DZYRuL7eTVc",
        "colab_type": "code",
        "outputId": "de1761ba-17dc-4841-ac42-e69b0b97aded",
        "colab": {
          "base_uri": "https://localhost:8080/",
          "height": 170
        }
      },
      "source": [
        "!pip install git+https://github.com/CS-Swansea/csswansea_colab.git "
      ],
      "execution_count": 0,
      "outputs": [
        {
          "output_type": "stream",
          "text": [
            "Collecting git+https://github.com/CS-Swansea/csswansea_colab.git\n",
            "  Cloning https://github.com/CS-Swansea/csswansea_colab.git to /tmp/pip-req-build-or1f40ze\n",
            "  Running command git clone -q https://github.com/CS-Swansea/csswansea_colab.git /tmp/pip-req-build-or1f40ze\n",
            "Requirement already satisfied (use --upgrade to upgrade): csswansea-colab==1.0 from git+https://github.com/CS-Swansea/csswansea_colab.git in /usr/local/lib/python3.6/dist-packages\n",
            "Building wheels for collected packages: csswansea-colab\n",
            "  Building wheel for csswansea-colab (setup.py) ... \u001b[?25l\u001b[?25hdone\n",
            "  Created wheel for csswansea-colab: filename=csswansea_colab-1.0-cp36-none-any.whl size=107307 sha256=53bb7fd09abe5a86277095db4c3edcfc6f239a0e30cd3c3fd87010ce943bb1d4\n",
            "  Stored in directory: /tmp/pip-ephem-wheel-cache-1kht3gp3/wheels/35/f1/9f/43d3d592e89ad6bb69629744e1b5ca9dd83299c2f0a787f505\n",
            "Successfully built csswansea-colab\n"
          ],
          "name": "stdout"
        }
      ]
    },
    {
      "cell_type": "markdown",
      "metadata": {
        "id": "lNXFFSasCYI1",
        "colab_type": "text"
      },
      "source": [
        "# Java 11"
      ]
    },
    {
      "cell_type": "code",
      "metadata": {
        "id": "6c9MJ5bRY-sR",
        "colab_type": "code",
        "outputId": "5715df25-ed29-4c1c-862e-bb5bb332f0ec",
        "colab": {
          "base_uri": "https://localhost:8080/",
          "height": 459
        }
      },
      "source": [
        "from csswansea_colab.java import java_11 as java\n",
        "java.configure()"
      ],
      "execution_count": 0,
      "outputs": [
        {
          "output_type": "stream",
          "text": [
            "\n",
            "installing java\n",
            "++ apt-get install -y openjdk-11-jdk-headless\n",
            "\n",
            "setting JAVA_HOME env variable\n",
            "\n",
            "updating-alternatives to use java version\n",
            "++ update-alternatives --set java    /usr/lib/jvm/java-11-openjdk-amd64/bin/java\n",
            "++ update-alternatives --set javac   /usr/lib/jvm/java-11-openjdk-amd64/bin/javac\n",
            "++ update-alternatives --set javadoc /usr/lib/jvm/java-11-openjdk-amd64/bin/javadoc\n",
            "\n",
            "java version\n",
            "++ java -version\n",
            "openjdk version \"11.0.7\" 2020-04-14\n",
            "OpenJDK Runtime Environment (build 11.0.7+10-post-Ubuntu-2ubuntu218.04)\n",
            "OpenJDK 64-Bit Server VM (build 11.0.7+10-post-Ubuntu-2ubuntu218.04, mixed mode, sharing)\n",
            "\n",
            "javac version\n",
            "++ javac -version\n",
            "javac 11.0.7\n",
            "\n",
            "\n",
            "executing tests\n",
            "++ javac /tmp/tmps0mcnwyg/HelloWorld.java -d /tmp/tmps0mcnwyg\n",
            "++ java -cp /tmp/tmps0mcnwyg HelloWorld\n",
            "Tests passed.\n"
          ],
          "name": "stdout"
        }
      ]
    },
    {
      "cell_type": "code",
      "metadata": {
        "id": "9l8oKCxbu8B2",
        "colab_type": "code",
        "outputId": "0a397700-3f03-4421-9d66-8ed9f0506365",
        "colab": {
          "base_uri": "https://localhost:8080/",
          "height": 153
        }
      },
      "source": [
        "java.test(verbose=True)"
      ],
      "execution_count": 0,
      "outputs": [
        {
          "output_type": "stream",
          "text": [
            "\n",
            "executing tests\n",
            "++ javac /tmp/tmpw58imjl4/HelloWorld.java -d /tmp/tmpw58imjl4\n",
            "\n",
            "++ java -cp /tmp/tmpw58imjl4 HelloWorld\n",
            "Hello World.\n",
            "\n",
            "Tests passed.\n"
          ],
          "name": "stdout"
        }
      ]
    },
    {
      "cell_type": "code",
      "metadata": {
        "id": "70L25BIBCoMy",
        "colab_type": "code",
        "outputId": "8bd34abd-444f-40c4-c117-823287ed1201",
        "colab": {
          "base_uri": "https://localhost:8080/",
          "height": 85
        }
      },
      "source": [
        "!javac -version\n",
        "!java  -version"
      ],
      "execution_count": 0,
      "outputs": [
        {
          "output_type": "stream",
          "text": [
            "javac 11.0.7\n",
            "openjdk version \"11.0.7\" 2020-04-14\n",
            "OpenJDK Runtime Environment (build 11.0.7+10-post-Ubuntu-2ubuntu218.04)\n",
            "OpenJDK 64-Bit Server VM (build 11.0.7+10-post-Ubuntu-2ubuntu218.04, mixed mode, sharing)\n"
          ],
          "name": "stdout"
        }
      ]
    }
  ]
}