{
  "nbformat": 4,
  "nbformat_minor": 0,
  "metadata": {
    "colab": {
      "name": "Example PEP8.ipynb",
      "provenance": [],
      "collapsed_sections": []
    },
    "kernelspec": {
      "name": "python3",
      "display_name": "Python 3"
    }
  },
  "cells": [
    {
      "cell_type": "markdown",
      "metadata": {
        "id": "yT3cq-EHkAAP",
        "colab_type": "text"
      },
      "source": [
        "# Install the configuration helper"
      ]
    },
    {
      "cell_type": "code",
      "metadata": {
        "id": "5DZYRuL7eTVc",
        "colab_type": "code",
        "outputId": "a2200ebc-587c-4f29-8876-64e555c9768a",
        "colab": {
          "base_uri": "https://localhost:8080/",
          "height": 187
        }
      },
      "source": [
        "!pip install git+https://github.com/CS-Swansea/csswansea_colab.git "
      ],
      "execution_count": 1,
      "outputs": [
        {
          "output_type": "stream",
          "text": [
            "Collecting git+https://github.com/CS-Swansea/csswansea_colab.git\n",
            "  Cloning https://github.com/CS-Swansea/csswansea_colab.git to /tmp/pip-req-build-1hr1x0gf\n",
            "  Running command git clone -q https://github.com/CS-Swansea/csswansea_colab.git /tmp/pip-req-build-1hr1x0gf\n",
            "Building wheels for collected packages: csswansea-colab\n",
            "  Building wheel for csswansea-colab (setup.py) ... \u001b[?25l\u001b[?25hdone\n",
            "  Created wheel for csswansea-colab: filename=csswansea_colab-1.0-cp36-none-any.whl size=118832 sha256=7a026d6a3bfa2236377390f9b90ee9a20ddb727895487e98299fd20f0c280806\n",
            "  Stored in directory: /tmp/pip-ephem-wheel-cache-sfbp_784/wheels/35/f1/9f/43d3d592e89ad6bb69629744e1b5ca9dd83299c2f0a787f505\n",
            "Successfully built csswansea-colab\n",
            "Installing collected packages: csswansea-colab\n",
            "Successfully installed csswansea-colab-1.0\n"
          ],
          "name": "stdout"
        }
      ]
    },
    {
      "cell_type": "markdown",
      "metadata": {
        "id": "m0AGraljg9Hv",
        "colab_type": "text"
      },
      "source": [
        "# PEP8"
      ]
    },
    {
      "cell_type": "code",
      "metadata": {
        "id": "s2t-4zK5m03n",
        "colab_type": "code",
        "outputId": "761bb962-d5be-4d50-9ada-5ff843e0d606",
        "colab": {
          "base_uri": "https://localhost:8080/",
          "height": 527
        }
      },
      "source": [
        "from csswansea_colab.pep8 import pep8\n",
        "pep8.configure()"
      ],
      "execution_count": 2,
      "outputs": [
        {
          "output_type": "stream",
          "text": [
            "\n",
            "installing pep8 from source\n",
            "++ mkdir -p /content/pep8\n",
            "++ unzip /usr/local/lib/python3.6/dist-packages/csswansea_colab/pep8/pep8.zip -d /content/\n",
            "++ make -C /content/pep8/\n",
            "\n",
            "updating path env variable\n",
            "\n",
            "updating-alternatives to use pep8\n",
            "++ update-alternatives --install /usr/bin/asem8 asem8 /content/pep8/asem8 1\n",
            "++ update-alternatives --install /usr/bin/pep8  pep8  /content/pep8/pep8  1\n",
            "\n",
            "building pep8os\n",
            "++ asem8 /content/pep8/pep8os.pep\n",
            "\n",
            "pep8 version\n",
            "++ asem8 -v\n",
            "Pep/8 Assembler, version Unix 8.17\n",
            "\n",
            "++ pep8 -v\n",
            "++ q\n",
            "Pep/8 Simulator, version Unix 8.3, Pepperdine University\n",
            "64599 bytes RAM free.\n",
            "\n",
            "(l)oad  e(x)ecute  (d)ump  (t)race  (i)nput  (o)utput  (q)uit: \n",
            "\n",
            "executing tests\n",
            "++ asem8 /tmp/tmpa6tqlxow/HelloWorld.pep\n",
            "++ pep8\n",
            "Tests passed.\n"
          ],
          "name": "stdout"
        }
      ]
    },
    {
      "cell_type": "markdown",
      "metadata": {
        "id": "mVr9HeFVIXRY",
        "colab_type": "text"
      },
      "source": [
        "# Use `!` at the start of the line to execute it on the BASH commandline. "
      ]
    },
    {
      "cell_type": "code",
      "metadata": {
        "id": "sM97YEkonG42",
        "colab_type": "code",
        "outputId": "70c9ec0d-e786-4bb6-8d3e-d9810d7cad4f",
        "colab": {
          "base_uri": "https://localhost:8080/",
          "height": 34
        }
      },
      "source": [
        "!asem8 -v"
      ],
      "execution_count": 3,
      "outputs": [
        {
          "output_type": "stream",
          "text": [
            "Pep/8 Assembler, version Unix 8.17\n"
          ],
          "name": "stdout"
        }
      ]
    },
    {
      "cell_type": "markdown",
      "metadata": {
        "id": "Rs37ZLnyIsEf",
        "colab_type": "text"
      },
      "source": [
        "# Use the `%%writefile` magic to save it to file on Colab.\n",
        "\n",
        "When the cell is run in Colab the code written in the cell will **not** be executed and a file will be created at the desired location containing a copy of the cells current contents. \n",
        "\n",
        "If you change the content of the cell and run it again in Colab, the file will be recreated, and only contain the current cell contents."
      ]
    },
    {
      "cell_type": "code",
      "metadata": {
        "id": "SgTaDjfnFecI",
        "colab_type": "code",
        "outputId": "6a6e8c48-4f24-4c35-f124-768a9fa99cff",
        "colab": {
          "base_uri": "https://localhost:8080/",
          "height": 34
        }
      },
      "source": [
        "%%writefile HelloWorld.pep\n",
        "\n",
        "br main\n",
        "\n",
        "msg: .ASCII \"Hello World.\\x00\"\n",
        "\n",
        "main:    STRO msg, d \n",
        "         STOP\n",
        "\n",
        ".END "
      ],
      "execution_count": 4,
      "outputs": [
        {
          "output_type": "stream",
          "text": [
            "Writing HelloWorld.pep\n"
          ],
          "name": "stdout"
        }
      ]
    },
    {
      "cell_type": "markdown",
      "metadata": {
        "id": "QAo4xlXMJeGZ",
        "colab_type": "text"
      },
      "source": [
        "# Compile the saved file on the command line."
      ]
    },
    {
      "cell_type": "code",
      "metadata": {
        "id": "gpODq9XfFxjH",
        "colab_type": "code",
        "colab": {}
      },
      "source": [
        "!asem8 HelloWorld.pep"
      ],
      "execution_count": 0,
      "outputs": []
    },
    {
      "cell_type": "markdown",
      "metadata": {
        "id": "gUYNHdMwJpgk",
        "colab_type": "text"
      },
      "source": [
        "# Execute the compiled program on the pep8 simulator. "
      ]
    },
    {
      "cell_type": "code",
      "metadata": {
        "id": "yi3ketXxGP-y",
        "colab_type": "code",
        "outputId": "c241a576-598d-459d-be39-700ef39d38c0",
        "colab": {
          "base_uri": "https://localhost:8080/",
          "height": 170
        }
      },
      "source": [
        "!pep8"
      ],
      "execution_count": 6,
      "outputs": [
        {
          "output_type": "stream",
          "text": [
            "64599 bytes RAM free.\n",
            "\n",
            "(l)oad  e(x)ecute  (d)ump  (t)race  (i)nput  (o)utput  (q)uit: l\n",
            "Enter object file name (do not include .pepo): HelloWorld\n",
            "Object file is HelloWorld.pepo\n",
            "\n",
            "(l)oad  e(x)ecute  (d)ump  (t)race  (i)nput  (o)utput  (q)uit: x\n",
            "Hello World.\n",
            "(l)oad  e(x)ecute  (d)ump  (t)race  (i)nput  (o)utput  (q)uit: q\n"
          ],
          "name": "stdout"
        }
      ]
    }
  ]
}