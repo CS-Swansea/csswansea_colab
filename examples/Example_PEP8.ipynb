{
  "nbformat": 4,
  "nbformat_minor": 0,
  "metadata": {
    "colab": {
      "name": "Example PEP8.ipynb",
      "provenance": [],
      "collapsed_sections": []
    },
    "kernelspec": {
      "name": "python3",
      "display_name": "Python 3"
    }
  },
  "cells": [
    {
      "cell_type": "markdown",
      "metadata": {
        "id": "yT3cq-EHkAAP",
        "colab_type": "text"
      },
      "source": [
        "# Install the configuration helper"
      ]
    },
    {
      "cell_type": "code",
      "metadata": {
        "id": "5DZYRuL7eTVc",
        "colab_type": "code",
        "outputId": "de1761ba-17dc-4841-ac42-e69b0b97aded",
        "colab": {
          "base_uri": "https://localhost:8080/",
          "height": 170
        }
      },
      "source": [
        "!pip install git+https://github.com/CS-Swansea/csswansea_colab.git "
      ],
      "execution_count": 0,
      "outputs": [
        {
          "output_type": "stream",
          "text": [
            "Collecting git+https://github.com/CS-Swansea/csswansea_colab.git\n",
            "  Cloning https://github.com/CS-Swansea/csswansea_colab.git to /tmp/pip-req-build-or1f40ze\n",
            "  Running command git clone -q https://github.com/CS-Swansea/csswansea_colab.git /tmp/pip-req-build-or1f40ze\n",
            "Requirement already satisfied (use --upgrade to upgrade): csswansea-colab==1.0 from git+https://github.com/CS-Swansea/csswansea_colab.git in /usr/local/lib/python3.6/dist-packages\n",
            "Building wheels for collected packages: csswansea-colab\n",
            "  Building wheel for csswansea-colab (setup.py) ... \u001b[?25l\u001b[?25hdone\n",
            "  Created wheel for csswansea-colab: filename=csswansea_colab-1.0-cp36-none-any.whl size=107307 sha256=53bb7fd09abe5a86277095db4c3edcfc6f239a0e30cd3c3fd87010ce943bb1d4\n",
            "  Stored in directory: /tmp/pip-ephem-wheel-cache-1kht3gp3/wheels/35/f1/9f/43d3d592e89ad6bb69629744e1b5ca9dd83299c2f0a787f505\n",
            "Successfully built csswansea-colab\n"
          ],
          "name": "stdout"
        }
      ]
    },
    {
      "cell_type": "markdown",
      "metadata": {
        "id": "m0AGraljg9Hv",
        "colab_type": "text"
      },
      "source": [
        "# PEP8"
      ]
    },
    {
      "cell_type": "code",
      "metadata": {
        "id": "s2t-4zK5m03n",
        "colab_type": "code",
        "outputId": "ef7e67c7-a1d2-40d3-ceed-fb11b03d8474",
        "colab": {
          "base_uri": "https://localhost:8080/",
          "height": 527
        }
      },
      "source": [
        "from csswansea_colab.pep8 import pep8\n",
        "pep8.configure()"
      ],
      "execution_count": 0,
      "outputs": [
        {
          "output_type": "stream",
          "text": [
            "\n",
            "installing pep8 from source\n",
            "++ mkdir -p /content/pep8\n",
            "++ unzip /usr/local/lib/python3.6/dist-packages/csswansea_colab/pep8/pep8.zip -d /content/\n",
            "++ make -C /content/pep8/\n",
            "\n",
            "updating path env variable\n",
            "\n",
            "updating-alternatives to use pep8\n",
            "++ update-alternatives --install /usr/bin/asem8 asem8 /content/pep8/asem8 1\n",
            "++ update-alternatives --install /usr/bin/pep8  pep8  /content/pep8/pep8  1\n",
            "\n",
            "building pep8os\n",
            "++ asem8 /content/pep8/pep8os.pep\n",
            "\n",
            "pep8 version\n",
            "++ asem8 -v\n",
            "Pep/8 Assembler, version Unix 8.17\n",
            "\n",
            "++ pep8 -v\n",
            "++ q\n",
            "Pep/8 Simulator, version Unix 8.3, Pepperdine University\n",
            "64599 bytes RAM free.\n",
            "\n",
            "(l)oad  e(x)ecute  (d)ump  (t)race  (i)nput  (o)utput  (q)uit: \n",
            "\n",
            "executing tests\n",
            "++ asem8 /tmp/tmpgmieypr8/HelloWorld.pep\n",
            "++ pep8\n",
            "Tests passed.\n"
          ],
          "name": "stdout"
        }
      ]
    },
    {
      "cell_type": "code",
      "metadata": {
        "id": "w2vRPAk2nCFQ",
        "colab_type": "code",
        "outputId": "3da25513-5a50-4ab0-850d-83688129fa22",
        "colab": {
          "base_uri": "https://localhost:8080/",
          "height": 136
        }
      },
      "source": [
        "pep8.test(verbose=True)"
      ],
      "execution_count": 0,
      "outputs": [
        {
          "output_type": "stream",
          "text": [
            "\n",
            "executing tests\n",
            "++ asem8 /tmp/tmpkmhg9t7a/HelloWorld.pep\n",
            "\n",
            "++ pep8\n",
            "Hello World.A\n",
            "Tests passed.\n"
          ],
          "name": "stdout"
        }
      ]
    },
    {
      "cell_type": "code",
      "metadata": {
        "id": "sM97YEkonG42",
        "colab_type": "code",
        "outputId": "f9632088-f26e-4726-d9f3-ccea6456ef75",
        "colab": {
          "base_uri": "https://localhost:8080/",
          "height": 34
        }
      },
      "source": [
        "!asem8 -v"
      ],
      "execution_count": 0,
      "outputs": [
        {
          "output_type": "stream",
          "text": [
            "Pep/8 Assembler, version Unix 8.17\n"
          ],
          "name": "stdout"
        }
      ]
    }
  ]
}