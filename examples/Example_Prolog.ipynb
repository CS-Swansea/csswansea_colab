{
  "nbformat": 4,
  "nbformat_minor": 0,
  "metadata": {
    "colab": {
      "name": "Example Prolog.ipynb",
      "provenance": [],
      "collapsed_sections": []
    },
    "kernelspec": {
      "name": "python3",
      "display_name": "Python 3"
    }
  },
  "cells": [
    {
      "cell_type": "markdown",
      "metadata": {
        "id": "yT3cq-EHkAAP",
        "colab_type": "text"
      },
      "source": [
        "# Install the configuration helper"
      ]
    },
    {
      "cell_type": "code",
      "metadata": {
        "id": "5DZYRuL7eTVc",
        "colab_type": "code",
        "outputId": "de1761ba-17dc-4841-ac42-e69b0b97aded",
        "colab": {
          "base_uri": "https://localhost:8080/",
          "height": 170
        }
      },
      "source": [
        "!pip install git+https://github.com/CS-Swansea/csswansea_colab.git "
      ],
      "execution_count": 0,
      "outputs": [
        {
          "output_type": "stream",
          "text": [
            "Collecting git+https://github.com/CS-Swansea/csswansea_colab.git\n",
            "  Cloning https://github.com/CS-Swansea/csswansea_colab.git to /tmp/pip-req-build-or1f40ze\n",
            "  Running command git clone -q https://github.com/CS-Swansea/csswansea_colab.git /tmp/pip-req-build-or1f40ze\n",
            "Requirement already satisfied (use --upgrade to upgrade): csswansea-colab==1.0 from git+https://github.com/CS-Swansea/csswansea_colab.git in /usr/local/lib/python3.6/dist-packages\n",
            "Building wheels for collected packages: csswansea-colab\n",
            "  Building wheel for csswansea-colab (setup.py) ... \u001b[?25l\u001b[?25hdone\n",
            "  Created wheel for csswansea-colab: filename=csswansea_colab-1.0-cp36-none-any.whl size=107307 sha256=53bb7fd09abe5a86277095db4c3edcfc6f239a0e30cd3c3fd87010ce943bb1d4\n",
            "  Stored in directory: /tmp/pip-ephem-wheel-cache-1kht3gp3/wheels/35/f1/9f/43d3d592e89ad6bb69629744e1b5ca9dd83299c2f0a787f505\n",
            "Successfully built csswansea-colab\n"
          ],
          "name": "stdout"
        }
      ]
    },
    {
      "cell_type": "markdown",
      "metadata": {
        "id": "twltuyNmCHrj",
        "colab_type": "text"
      },
      "source": [
        "# Prolog"
      ]
    },
    {
      "cell_type": "code",
      "metadata": {
        "id": "qIarQgT-5KhI",
        "colab_type": "code",
        "outputId": "f854ad92-6e67-4401-8a47-1c4d1c6887ad",
        "colab": {
          "base_uri": "https://localhost:8080/",
          "height": 255
        }
      },
      "source": [
        "from csswansea_colab.prolog import swi_prolog as prolog\n",
        "prolog.configure()"
      ],
      "execution_count": 0,
      "outputs": [
        {
          "output_type": "stream",
          "text": [
            "\n",
            "installing swi-prolog\n",
            "++ add-apt-repository -y ppa:swi-prolog/stable\n",
            "++ apt-get update\n",
            "++ apt-get install -y swi-prolog\n",
            "\n",
            "swi-prolog\n",
            "++ swipl --version\n",
            "SWI-Prolog version 8.2.0 for x86_64-linux\n",
            "\n",
            "\n",
            "executing tests\n",
            "++ swipl -q -l /tmp/tmperkf22ld/HelloWorld.pl -t hello.\n",
            "Tests passed.\n"
          ],
          "name": "stdout"
        }
      ]
    },
    {
      "cell_type": "code",
      "metadata": {
        "id": "3YkxfZW0_jmm",
        "colab_type": "code",
        "outputId": "95908aad-1f07-4a39-a5c6-29bcef8a40d3",
        "colab": {
          "base_uri": "https://localhost:8080/",
          "height": 119
        }
      },
      "source": [
        "prolog.test(verbose=True)"
      ],
      "execution_count": 0,
      "outputs": [
        {
          "output_type": "stream",
          "text": [
            "\n",
            "executing tests\n",
            "++ swipl -q -l /tmp/tmpek2xfgk_/HelloWorld.pl -t hello.\n",
            "Hello World.\n",
            "\n",
            "Tests passed.\n"
          ],
          "name": "stdout"
        }
      ]
    },
    {
      "cell_type": "code",
      "metadata": {
        "id": "WGiUUL2B_lqh",
        "colab_type": "code",
        "outputId": "f48fbd11-0417-4bc6-f323-9f0014842fb9",
        "colab": {
          "base_uri": "https://localhost:8080/",
          "height": 34
        }
      },
      "source": [
        "!swipl --version"
      ],
      "execution_count": 0,
      "outputs": [
        {
          "output_type": "stream",
          "text": [
            "SWI-Prolog version 8.2.0 for x86_64-linux\n"
          ],
          "name": "stdout"
        }
      ]
    }
  ]
}