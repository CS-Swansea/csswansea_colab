{
  "nbformat": 4,
  "nbformat_minor": 0,
  "metadata": {
    "colab": {
      "name": "Example Prolog.ipynb",
      "provenance": [],
      "collapsed_sections": []
    },
    "kernelspec": {
      "name": "python3",
      "display_name": "Python 3"
    }
  },
  "cells": [
    {
      "cell_type": "markdown",
      "metadata": {
        "id": "yT3cq-EHkAAP",
        "colab_type": "text"
      },
      "source": [
        "# Install the configuration helper"
      ]
    },
    {
      "cell_type": "code",
      "metadata": {
        "id": "5DZYRuL7eTVc",
        "colab_type": "code",
        "outputId": "9934928d-7f89-4e35-8835-b2a4dc173d4f",
        "colab": {
          "base_uri": "https://localhost:8080/",
          "height": 187
        }
      },
      "source": [
        "!pip install git+https://github.com/CS-Swansea/csswansea_colab.git "
      ],
      "execution_count": 1,
      "outputs": [
        {
          "output_type": "stream",
          "text": [
            "Collecting git+https://github.com/CS-Swansea/csswansea_colab.git\n",
            "  Cloning https://github.com/CS-Swansea/csswansea_colab.git to /tmp/pip-req-build-6g_clav4\n",
            "  Running command git clone -q https://github.com/CS-Swansea/csswansea_colab.git /tmp/pip-req-build-6g_clav4\n",
            "Building wheels for collected packages: csswansea-colab\n",
            "  Building wheel for csswansea-colab (setup.py) ... \u001b[?25l\u001b[?25hdone\n",
            "  Created wheel for csswansea-colab: filename=csswansea_colab-1.0-cp36-none-any.whl size=118832 sha256=1b46b6e7fda56b7016ecf7257f37158790937fdbb8bec39f8f3bf04f788e60ac\n",
            "  Stored in directory: /tmp/pip-ephem-wheel-cache-623wnnq6/wheels/35/f1/9f/43d3d592e89ad6bb69629744e1b5ca9dd83299c2f0a787f505\n",
            "Successfully built csswansea-colab\n",
            "Installing collected packages: csswansea-colab\n",
            "Successfully installed csswansea-colab-1.0\n"
          ],
          "name": "stdout"
        }
      ]
    },
    {
      "cell_type": "markdown",
      "metadata": {
        "id": "twltuyNmCHrj",
        "colab_type": "text"
      },
      "source": [
        "# Prolog"
      ]
    },
    {
      "cell_type": "code",
      "metadata": {
        "id": "qIarQgT-5KhI",
        "colab_type": "code",
        "outputId": "a299ac88-7437-409b-f8d2-564d1207d410",
        "colab": {
          "base_uri": "https://localhost:8080/",
          "height": 255
        }
      },
      "source": [
        "from csswansea_colab.prolog import swi_prolog as prolog\n",
        "prolog.configure()"
      ],
      "execution_count": 2,
      "outputs": [
        {
          "output_type": "stream",
          "text": [
            "\n",
            "installing swi-prolog\n",
            "++ add-apt-repository -y ppa:swi-prolog/stable\n",
            "++ apt-get update\n",
            "++ apt-get install -y swi-prolog\n",
            "\n",
            "swi-prolog\n",
            "++ swipl --version\n",
            "SWI-Prolog version 8.2.0 for x86_64-linux\n",
            "\n",
            "\n",
            "executing tests\n",
            "++ swipl -q -l /tmp/tmp8b94idr4/HelloWorld.pl -t hello.\n",
            "Tests passed.\n"
          ],
          "name": "stdout"
        }
      ]
    },
    {
      "cell_type": "markdown",
      "metadata": {
        "id": "mVr9HeFVIXRY",
        "colab_type": "text"
      },
      "source": [
        "# Use `!` at the start of the line to execute it on the BASH commandline. "
      ]
    },
    {
      "cell_type": "code",
      "metadata": {
        "id": "WGiUUL2B_lqh",
        "colab_type": "code",
        "outputId": "7c7ea321-3bff-44c8-fe7e-33995da02242",
        "colab": {
          "base_uri": "https://localhost:8080/",
          "height": 34
        }
      },
      "source": [
        "!swipl --version"
      ],
      "execution_count": 3,
      "outputs": [
        {
          "output_type": "stream",
          "text": [
            "SWI-Prolog version 8.2.0 for x86_64-linux\n"
          ],
          "name": "stdout"
        }
      ]
    },
    {
      "cell_type": "markdown",
      "metadata": {
        "id": "Rs37ZLnyIsEf",
        "colab_type": "text"
      },
      "source": [
        "# Use the `%%writefile` magic to save it to file on Colab.\n",
        "\n",
        "When the cell is run in Colab the code written in the cell will **not** be executed and a file will be created at the desired location containing a copy of the cells current contents. \n",
        "\n",
        "If you change the content of the cell and run it again in Colab, the file will be recreated, and only contain the current cell contents."
      ]
    },
    {
      "cell_type": "code",
      "metadata": {
        "id": "SgTaDjfnFecI",
        "colab_type": "code",
        "outputId": "dc13bd72-ddbc-4099-a85b-7df5bd2148b8",
        "colab": {
          "base_uri": "https://localhost:8080/",
          "height": 34
        }
      },
      "source": [
        "%%writefile HelloWorld.pl\n",
        "\n",
        "hello :- format('Hello World.~n')."
      ],
      "execution_count": 4,
      "outputs": [
        {
          "output_type": "stream",
          "text": [
            "Writing HelloWorld.pl\n"
          ],
          "name": "stdout"
        }
      ]
    },
    {
      "cell_type": "markdown",
      "metadata": {
        "id": "gUYNHdMwJpgk",
        "colab_type": "text"
      },
      "source": [
        "# Execute the prolog program on the command line. "
      ]
    },
    {
      "cell_type": "code",
      "metadata": {
        "id": "yi3ketXxGP-y",
        "colab_type": "code",
        "outputId": "78da3bdc-e87e-4ab7-bbed-8dc7c88885be",
        "colab": {
          "base_uri": "https://localhost:8080/",
          "height": 34
        }
      },
      "source": [
        "!swipl -q -l HelloWorld.pl -t hello."
      ],
      "execution_count": 6,
      "outputs": [
        {
          "output_type": "stream",
          "text": [
            "Hello World.\n"
          ],
          "name": "stdout"
        }
      ]
    }
  ]
}