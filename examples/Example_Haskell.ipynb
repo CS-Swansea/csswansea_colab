{
  "nbformat": 4,
  "nbformat_minor": 0,
  "metadata": {
    "colab": {
      "name": "Example Haskell.ipynb",
      "provenance": [],
      "collapsed_sections": [],
      "toc_visible": true
    },
    "kernelspec": {
      "name": "python3",
      "display_name": "Python 3"
    }
  },
  "cells": [
    {
      "cell_type": "markdown",
      "metadata": {
        "id": "yT3cq-EHkAAP",
        "colab_type": "text"
      },
      "source": [
        "# Install the configuration helper"
      ]
    },
    {
      "cell_type": "code",
      "metadata": {
        "id": "5DZYRuL7eTVc",
        "colab_type": "code",
        "outputId": "93d70ad2-c7f0-4e4e-9736-54551c307790",
        "colab": {
          "base_uri": "https://localhost:8080/",
          "height": 187
        }
      },
      "source": [
        "!pip install git+https://github.com/CS-Swansea/csswansea_colab.git "
      ],
      "execution_count": 1,
      "outputs": [
        {
          "output_type": "stream",
          "text": [
            "Collecting git+https://github.com/CS-Swansea/csswansea_colab.git\n",
            "  Cloning https://github.com/CS-Swansea/csswansea_colab.git to /tmp/pip-req-build-mythnqfl\n",
            "  Running command git clone -q https://github.com/CS-Swansea/csswansea_colab.git /tmp/pip-req-build-mythnqfl\n",
            "Building wheels for collected packages: csswansea-colab\n",
            "  Building wheel for csswansea-colab (setup.py) ... \u001b[?25l\u001b[?25hdone\n",
            "  Created wheel for csswansea-colab: filename=csswansea_colab-1.0-cp36-none-any.whl size=118832 sha256=ffaed63498cf6b5646b3bf1432ca1502dd7133565b6090987d89b4c06cb77d9a\n",
            "  Stored in directory: /tmp/pip-ephem-wheel-cache-uu52gt8t/wheels/35/f1/9f/43d3d592e89ad6bb69629744e1b5ca9dd83299c2f0a787f505\n",
            "Successfully built csswansea-colab\n",
            "Installing collected packages: csswansea-colab\n",
            "Successfully installed csswansea-colab-1.0\n"
          ],
          "name": "stdout"
        }
      ]
    },
    {
      "cell_type": "markdown",
      "metadata": {
        "id": "vlWfZnD0G7PP",
        "colab_type": "text"
      },
      "source": [
        "# Haskell"
      ]
    },
    {
      "cell_type": "code",
      "metadata": {
        "id": "DECxAJYaHuND",
        "colab_type": "code",
        "outputId": "f8781c0c-c4a7-41f9-8e21-4a46b15d1041",
        "colab": {
          "base_uri": "https://localhost:8080/",
          "height": 255
        }
      },
      "source": [
        "from csswansea_colab.haskell import ghc_haskell as haskell\n",
        "haskell.configure()"
      ],
      "execution_count": 2,
      "outputs": [
        {
          "output_type": "stream",
          "text": [
            "\n",
            "installing glasgow haskell compiler\n",
            "++ apt-get update\n",
            "++ apt-get install -y ghc ghc-prof ghc-doc\n",
            "\n",
            "ghc version\n",
            "++ ghc --version\n",
            "The Glorious Glasgow Haskell Compilation System, version 8.0.2\n",
            "\n",
            "\n",
            "executing tests\n",
            "++ ghc /tmp/tmpo2prqyjp/HelloWorld.hs -o /tmp/tmpo2prqyjp/HelloWorld\n",
            "++ /tmp/tmpo2prqyjp/HelloWorld\n",
            "Tests passed.\n"
          ],
          "name": "stdout"
        }
      ]
    },
    {
      "cell_type": "markdown",
      "metadata": {
        "id": "mVr9HeFVIXRY",
        "colab_type": "text"
      },
      "source": [
        "# Use `!` at the start of the line to execute it on the BASH commandline. "
      ]
    },
    {
      "cell_type": "code",
      "metadata": {
        "id": "9E7TXsKrHyVp",
        "colab_type": "code",
        "outputId": "cfe1f485-b936-463f-ad4b-4f867219b650",
        "colab": {
          "base_uri": "https://localhost:8080/",
          "height": 34
        }
      },
      "source": [
        "!ghc --version"
      ],
      "execution_count": 3,
      "outputs": [
        {
          "output_type": "stream",
          "text": [
            "The Glorious Glasgow Haskell Compilation System, version 8.0.2\n"
          ],
          "name": "stdout"
        }
      ]
    },
    {
      "cell_type": "markdown",
      "metadata": {
        "id": "Rs37ZLnyIsEf",
        "colab_type": "text"
      },
      "source": [
        "# Use the `%%writefile` magic to save it to file on Colab.\n",
        "\n",
        "When the cell is run in Colab the code written in the cell will **not** be executed and a file will be created at the desired location containing a copy of the cells current contents. \n",
        "\n",
        "If you change the content of the cell and run it again in Colab, the file will be recreated, and only contain the current cell contents."
      ]
    },
    {
      "cell_type": "code",
      "metadata": {
        "id": "SgTaDjfnFecI",
        "colab_type": "code",
        "outputId": "26bc88ba-02d5-4985-f9e8-a25315a1747c",
        "colab": {
          "base_uri": "https://localhost:8080/",
          "height": 34
        }
      },
      "source": [
        "%%writefile HelloWorld.hs\n",
        "\n",
        "main = putStrLn \"Hello World.\""
      ],
      "execution_count": 4,
      "outputs": [
        {
          "output_type": "stream",
          "text": [
            "Writing HelloWorld.hs\n"
          ],
          "name": "stdout"
        }
      ]
    },
    {
      "cell_type": "markdown",
      "metadata": {
        "id": "QAo4xlXMJeGZ",
        "colab_type": "text"
      },
      "source": [
        "# Compile the saved file on the command line."
      ]
    },
    {
      "cell_type": "code",
      "metadata": {
        "id": "gpODq9XfFxjH",
        "colab_type": "code",
        "colab": {
          "base_uri": "https://localhost:8080/",
          "height": 51
        },
        "outputId": "35040afa-de38-4c9d-d254-b4d4e6ab78b5"
      },
      "source": [
        "!ghc HelloWorld.hs -o HelloWorld"
      ],
      "execution_count": 5,
      "outputs": [
        {
          "output_type": "stream",
          "text": [
            "[1 of 1] Compiling Main             ( HelloWorld.hs, HelloWorld.o )\n",
            "Linking HelloWorld ...\n"
          ],
          "name": "stdout"
        }
      ]
    },
    {
      "cell_type": "markdown",
      "metadata": {
        "id": "gUYNHdMwJpgk",
        "colab_type": "text"
      },
      "source": [
        "# Execute the compiled program on the command line. "
      ]
    },
    {
      "cell_type": "code",
      "metadata": {
        "id": "yi3ketXxGP-y",
        "colab_type": "code",
        "outputId": "3431aef2-f733-4bb5-90c7-f2eb7bed0e67",
        "colab": {
          "base_uri": "https://localhost:8080/",
          "height": 34
        }
      },
      "source": [
        "!./HelloWorld"
      ],
      "execution_count": 6,
      "outputs": [
        {
          "output_type": "stream",
          "text": [
            "Hello World.\n"
          ],
          "name": "stdout"
        }
      ]
    }
  ]
}