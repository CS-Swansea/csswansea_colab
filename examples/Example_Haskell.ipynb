{
  "nbformat": 4,
  "nbformat_minor": 0,
  "metadata": {
    "colab": {
      "name": "Example Haskell.ipynb",
      "provenance": [],
      "collapsed_sections": []
    },
    "kernelspec": {
      "name": "python3",
      "display_name": "Python 3"
    }
  },
  "cells": [
    {
      "cell_type": "markdown",
      "metadata": {
        "id": "yT3cq-EHkAAP",
        "colab_type": "text"
      },
      "source": [
        "# Install the configuration helper"
      ]
    },
    {
      "cell_type": "code",
      "metadata": {
        "id": "5DZYRuL7eTVc",
        "colab_type": "code",
        "outputId": "de1761ba-17dc-4841-ac42-e69b0b97aded",
        "colab": {
          "base_uri": "https://localhost:8080/",
          "height": 170
        }
      },
      "source": [
        "!pip install git+https://github.com/CS-Swansea/csswansea_colab.git "
      ],
      "execution_count": 0,
      "outputs": [
        {
          "output_type": "stream",
          "text": [
            "Collecting git+https://github.com/CS-Swansea/csswansea_colab.git\n",
            "  Cloning https://github.com/CS-Swansea/csswansea_colab.git to /tmp/pip-req-build-or1f40ze\n",
            "  Running command git clone -q https://github.com/CS-Swansea/csswansea_colab.git /tmp/pip-req-build-or1f40ze\n",
            "Requirement already satisfied (use --upgrade to upgrade): csswansea-colab==1.0 from git+https://github.com/CS-Swansea/csswansea_colab.git in /usr/local/lib/python3.6/dist-packages\n",
            "Building wheels for collected packages: csswansea-colab\n",
            "  Building wheel for csswansea-colab (setup.py) ... \u001b[?25l\u001b[?25hdone\n",
            "  Created wheel for csswansea-colab: filename=csswansea_colab-1.0-cp36-none-any.whl size=107307 sha256=53bb7fd09abe5a86277095db4c3edcfc6f239a0e30cd3c3fd87010ce943bb1d4\n",
            "  Stored in directory: /tmp/pip-ephem-wheel-cache-1kht3gp3/wheels/35/f1/9f/43d3d592e89ad6bb69629744e1b5ca9dd83299c2f0a787f505\n",
            "Successfully built csswansea-colab\n"
          ],
          "name": "stdout"
        }
      ]
    },
    {
      "cell_type": "markdown",
      "metadata": {
        "id": "vlWfZnD0G7PP",
        "colab_type": "text"
      },
      "source": [
        "# Haskell"
      ]
    },
    {
      "cell_type": "code",
      "metadata": {
        "id": "DECxAJYaHuND",
        "colab_type": "code",
        "outputId": "ab096a7c-3349-435e-ccb3-aefcad3f4399",
        "colab": {
          "base_uri": "https://localhost:8080/",
          "height": 255
        }
      },
      "source": [
        "from csswansea_colab.haskell import ghc_haskell as haskell\n",
        "haskell.configure()"
      ],
      "execution_count": 0,
      "outputs": [
        {
          "output_type": "stream",
          "text": [
            "\n",
            "installing glasgow haskell compiler\n",
            "++ apt-get update\n",
            "++ apt-get install -y ghc ghc-prof ghc-doc\n",
            "\n",
            "ghc version\n",
            "++ ghc --version\n",
            "The Glorious Glasgow Haskell Compilation System, version 8.0.2\n",
            "\n",
            "\n",
            "executing tests\n",
            "++ ghc /tmp/tmph779lsrq/HelloWorld.hs -o /tmp/tmph779lsrq/HelloWorld\n",
            "++ /tmp/tmph779lsrq/HelloWorld\n",
            "Tests passed.\n"
          ],
          "name": "stdout"
        }
      ]
    },
    {
      "cell_type": "code",
      "metadata": {
        "id": "zxLX4Yo-MDPt",
        "colab_type": "code",
        "outputId": "be50976f-1013-449a-eb7e-6c7670f10574",
        "colab": {
          "base_uri": "https://localhost:8080/",
          "height": 187
        }
      },
      "source": [
        "haskell.test(verbose=True)"
      ],
      "execution_count": 0,
      "outputs": [
        {
          "output_type": "stream",
          "text": [
            "\n",
            "executing tests\n",
            "++ ghc /tmp/tmp7sm7b1wv/HelloWorld.hs -o /tmp/tmp7sm7b1wv/HelloWorld\n",
            "[1 of 1] Compiling Main             ( /tmp/tmp7sm7b1wv/HelloWorld.hs, /tmp/tmp7sm7b1wv/HelloWorld.o )\n",
            "Linking /tmp/tmp7sm7b1wv/HelloWorld ...\n",
            "\n",
            "++ /tmp/tmp7sm7b1wv/HelloWorld\n",
            "Hello World.\n",
            "\n",
            "Tests passed.\n"
          ],
          "name": "stdout"
        }
      ]
    },
    {
      "cell_type": "code",
      "metadata": {
        "id": "9E7TXsKrHyVp",
        "colab_type": "code",
        "outputId": "94bbd397-cf90-4287-881d-4ada68f694ff",
        "colab": {
          "base_uri": "https://localhost:8080/",
          "height": 34
        }
      },
      "source": [
        "!ghc --version"
      ],
      "execution_count": 0,
      "outputs": [
        {
          "output_type": "stream",
          "text": [
            "The Glorious Glasgow Haskell Compilation System, version 8.0.2\n"
          ],
          "name": "stdout"
        }
      ]
    }
  ]
}